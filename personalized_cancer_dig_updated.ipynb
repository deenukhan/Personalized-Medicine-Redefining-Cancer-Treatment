{
  "nbformat": 4,
  "nbformat_minor": 0,
  "metadata": {
    "colab": {
      "name": "personalized_cancer_dig.ipynb",
      "provenance": [],
      "collapsed_sections": [
        "Q9oBXXfa66zS",
        "cwRZ-Um0aAcY"
      ],
      "mount_file_id": "15BB8dbHG7gd7oyCfHx45XeIgZ784QZjJ",
      "authorship_tag": "ABX9TyM1uz/rvcrTIdw7tGK9GHHw",
      "include_colab_link": true
    },
    "kernelspec": {
      "name": "python3",
      "display_name": "Python 3"
    }
  },
  "cells": [
    {
      "cell_type": "markdown",
      "metadata": {
        "id": "view-in-github",
        "colab_type": "text"
      },
      "source": [
        "<a href=\"https://colab.research.google.com/github/deenukhan/Personalized-Medicine-Redefining-Cancer-Treatment/blob/main/personalized_cancer_dig_updated.ipynb\" target=\"_parent\"><img src=\"https://colab.research.google.com/assets/colab-badge.svg\" alt=\"Open In Colab\"/></a>"
      ]
    },
    {
      "cell_type": "markdown",
      "metadata": {
        "id": "Q9oBXXfa66zS"
      },
      "source": [
        "## About the Data"
      ]
    },
    {
      "cell_type": "markdown",
      "metadata": {
        "id": "d9LMVNWF6_-s"
      },
      "source": [
        "<h2 style=\"user-select: auto;\"> Overview </h2>\r\n",
        "<a href = \"https://www.kaggle.com/c/msk-redefining-cancer-treatment/overview\">Kaggle Link</a> \r\n",
        "<div class=\"markdown-converter__text--rendered\"><p>A lot has been said during the past several years about how precision medicine and, more concretely, how genetic testing is going to disrupt the way diseases like cancer are treated.</p>\r\n",
        "<p>But this is only partially happening due to the huge amount of manual work still required. Memorial Sloan Kettering Cancer Center (MSKCC) launched this competition, accepted by the <a href=\"https://nips.cc/Conferences/2017/CompetitionTrack\">NIPS 2017 Competition Track</a>, &nbsp;because we need your help to take personalized medicine to its full potential.</p>\r\n",
        "<p><img height=\"171\" width=\"1066\" alt=\"\" src=\"https://storage.googleapis.com/kaggle-competitions/kaggle/6841/media/79842_Web-hero-image_ALT-3.jpg\"></p>\r\n",
        "<p>Once sequenced, a cancer tumor can have thousands of genetic mutations. But the challenge is distinguishing the mutations that contribute to tumor growth (drivers) from the neutral mutations (passengers).&nbsp;</p>\r\n",
        "<p>Currently this interpretation of genetic mutations is being done manually. This is a very time-consuming task where a clinical pathologist has to manually review and classify every single genetic mutation based on evidence from text-based clinical literature.</p>\r\n",
        "<p>For this competition MSKCC is making available an expert-annotated knowledge base where world-class researchers and oncologists have manually annotated thousands of mutations.</p>\r\n",
        "<p>We need your help to develop a Machine Learning algorithm that, using this knowledge base as a baseline, automatically classifies genetic variations.</p>\r\n",
        "\r\n",
        "<h2 style=\"user-select: auto;\">Submission File</h2>\r\n",
        "<p style=\"user-select: auto;\">For each ID&nbsp;in the test set, you must predict a probability for each of the different classes a genetic mutation can be classified on. The file should contain a header and have the following format:</p>\r\n",
        "<pre style=\"user-select: auto;\">ID,class1,class2,class3,class4,class5,class6,class7,class8,class9<br style=\"user-select: auto;\">0,0.1,0.7,0.05,0.05,0.1,0,0,0,0<br style=\"user-select: auto;\">1,0.7,0.1,0.05,0.05,0.1,0,0,0,0<br style=\"user-select: auto;\">2,0.05,0.05,0.1,0.7,0.1,0,0,0,0<br style=\"user-select: auto;\">3,0,0,0,0,0.05,0.05,0.1,0,7,0,1<br style=\"user-select: auto;\">etc.</pre>\r\n",
        "\r\n",
        "<h2 style=\"user-select: auto;\"> Data Description </h2>\r\n",
        "\r\n",
        "<div class=\"sc-pAAKw bdWqNH\" style=\"user-select: auto;\"><div class=\"markdown-converter__text--rendered\" style=\"user-select: auto;\"><p style=\"user-select: auto;\">In this competition you will develop algorithms to classify genetic mutations based on clinical evidence (text).</p>\r\n",
        "<p style=\"user-select: auto;\">There are nine different classes a genetic mutation can be classified on.</p>\r\n",
        "<p style=\"user-select: auto;\">This is not a trivial task since interpreting clinical evidence is very challenging even for human specialists. Therefore, modeling the clinical evidence (text) will be critical for the success of your approach.</p>\r\n",
        "<p style=\"user-select: auto;\">Both, training and test, data sets are provided via two different files. One (training/test_variants) provides the information about the genetic mutations, whereas the other (training/test_text) provides the clinical evidence (text) that our human experts used to classify the genetic mutations. Both are linked via the ID field.</p>\r\n",
        "<p style=\"user-select: auto;\">Therefore the genetic mutation (row) with ID=15 in the file training_variants, was classified using the clinical evidence (text) from the row with ID=15 in the file training_text</p>\r\n",
        "<p style=\"user-select: auto;\">Finally, to make it more exciting!! Some of the test data is machine-generated to prevent hand labeling. You will submit all the results of your classification algorithm, and we will ignore the machine-generated samples.&nbsp;</p>\r\n",
        "<h2 style=\"user-select: auto;\">File descriptions</h2>\r\n",
        "<ul style=\"user-select: auto;\">\r\n",
        "<li style=\"user-select: auto;\"><strong style=\"user-select: auto;\">training_variants</strong>&nbsp;- a comma separated file containing the description of the genetic mutations used for training. Fields are <strong style=\"user-select: auto;\">ID</strong> (the id of the row used to link the mutation to the clinical evidence), <strong style=\"user-select: auto;\">Gene</strong> (the gene where this genetic mutation is located), <strong style=\"user-select: auto;\">Variation</strong> (the aminoacid change for this mutations), <strong style=\"user-select: auto;\">Class</strong> (1-9 the class this genetic mutation has been classified on)</li>\r\n",
        "<li style=\"user-select: auto;\"><strong style=\"user-select: auto;\">training_text</strong>&nbsp;- a double pipe (||) delimited file that contains the clinical evidence (text) used to classify genetic mutations. Fields are <strong style=\"user-select: auto;\">ID</strong> (the id of the row used to link the clinical evidence to the genetic mutation), <strong style=\"user-select: auto;\">Text</strong> (the clinical evidence used to classify the genetic mutation)</li>\r\n",
        "<li style=\"user-select: auto;\"><strong style=\"user-select: auto;\">test_variants</strong>&nbsp;-&nbsp;a comma separated file containing the description of the genetic mutations used for training. Fields are <strong style=\"user-select: auto;\">ID</strong> (the id of the row used to link the mutation to the clinical evidence), <strong style=\"user-select: auto;\">Gene</strong> (the gene where this genetic mutation is located), <strong style=\"user-select: auto;\">Variation</strong> (the aminoacid change for this mutations)</li>\r\n",
        "<li style=\"user-select: auto;\"><strong style=\"user-select: auto;\">test_text</strong> -&nbsp;a double pipe (||) delimited file that contains the clinical evidence (text) used to classify genetic mutations. Fields are <strong style=\"user-select: auto;\">ID</strong> (the id of the row used to link the clinical evidence to the genetic mutation), <strong style=\"user-select: auto;\">Text</strong> (the clinical evidence used to classify the genetic mutation)</li>\r\n",
        "<li style=\"user-select: auto;\"><strong style=\"user-select: auto;\">submissionSample</strong>&nbsp;- a sample submission file in the correct format</li>\r\n",
        "</ul></div></div>"
      ]
    },
    {
      "cell_type": "markdown",
      "metadata": {
        "id": "cwRZ-Um0aAcY"
      },
      "source": [
        "## Extracting Data"
      ]
    },
    {
      "cell_type": "code",
      "metadata": {
        "id": "55mCvGEUMBlQ",
        "colab": {
          "base_uri": "https://localhost:8080/"
        },
        "outputId": "7b42af6b-af35-4432-ed50-3af5dadc6dc6"
      },
      "source": [
        "#Below code is just to copy all the files into current session's drive and creating and deleting few required folders\r\n",
        "\r\n",
        "import os\r\n",
        "import zipfile\r\n",
        "from tqdm import tqdm\r\n",
        "\r\n",
        "!mkdir data\r\n",
        "\r\n",
        "!cp \"/content/drive/MyDrive/Study/Self Study/Case Study 2 - Cancer/personalized_cancer_dig_data/training_text.zip\" /content/\r\n",
        "!cp \"/content/drive/MyDrive/Study/Self Study/Case Study 2 - Cancer/personalized_cancer_dig_data/training_variants.zip\" /content/\r\n",
        "!cp \"/content/drive/MyDrive/Study/Self Study/Case Study 2 - Cancer/personalized_cancer_dig_data/stage2_test_variants.7z\" /content/\r\n",
        "!cp \"/content/drive/MyDrive/Study/Self Study/Case Study 2 - Cancer/personalized_cancer_dig_data/stage2_test_text.7z\" /content/\r\n",
        "\r\n",
        "#-q is oppsoite of verbose, -d for decompressing to directory\r\n",
        "!unzip -q /content/training_text.zip -d /content/data/\r\n",
        "!unzip -q /content/training_variants.zip -d /content/data/\r\n",
        "\r\n",
        "!7za e /content/stage2_test_text.7z\r\n",
        "!mv /content/stage2_test_text.csv /content/data\r\n",
        "\r\n",
        "!7za e /content/stage2_test_variants.7z\r\n",
        "!mv /content/stage2_test_variants.csv /content/data\r\n"
      ],
      "execution_count": 1,
      "outputs": [
        {
          "output_type": "stream",
          "text": [
            "\n",
            "7-Zip (a) [64] 16.02 : Copyright (c) 1999-2016 Igor Pavlov : 2016-05-21\n",
            "p7zip Version 16.02 (locale=en_US.UTF-8,Utf16=on,HugeFiles=on,64 bits,2 CPUs Intel(R) Xeon(R) CPU @ 2.20GHz (406F0),ASM,AES-NI)\n",
            "\n",
            "Scanning the drive for archives:\n",
            "  0M Scan /content/\b\b\b\b\b\b\b\b\b\b\b\b\b\b\b\b\b\b\b                   \b\b\b\b\b\b\b\b\b\b\b\b\b\b\b\b\b\b\b1 file, 9308786 bytes (9091 KiB)\n",
            "\n",
            "Extracting archive: /content/stage2_test_text.7z\n",
            "--\n",
            "Path = /content/stage2_test_text.7z\n",
            "Type = 7z\n",
            "Physical Size = 9308786\n",
            "Headers Size = 142\n",
            "Method = LZMA:25\n",
            "Solid = -\n",
            "Blocks = 1\n",
            "\n",
            "  0%\b\b\b\b    \b\b\b\b 20% - stage2_test_text.csv\b\b\b\b\b\b\b\b\b\b\b\b\b\b\b\b\b\b\b\b\b\b\b\b\b\b\b                           \b\b\b\b\b\b\b\b\b\b\b\b\b\b\b\b\b\b\b\b\b\b\b\b\b\b\b 48% - stage2_test_text.csv\b\b\b\b\b\b\b\b\b\b\b\b\b\b\b\b\b\b\b\b\b\b\b\b\b\b\b                           \b\b\b\b\b\b\b\b\b\b\b\b\b\b\b\b\b\b\b\b\b\b\b\b\b\b\b 83% - stage2_test_text.csv\b\b\b\b\b\b\b\b\b\b\b\b\b\b\b\b\b\b\b\b\b\b\b\b\b\b\b                           \b\b\b\b\b\b\b\b\b\b\b\b\b\b\b\b\b\b\b\b\b\b\b\b\b\b\bEverything is Ok\n",
            "\n",
            "Size:       60569525\n",
            "Compressed: 9308786\n",
            "\n",
            "7-Zip (a) [64] 16.02 : Copyright (c) 1999-2016 Igor Pavlov : 2016-05-21\n",
            "p7zip Version 16.02 (locale=en_US.UTF-8,Utf16=on,HugeFiles=on,64 bits,2 CPUs Intel(R) Xeon(R) CPU @ 2.20GHz (406F0),ASM,AES-NI)\n",
            "\n",
            "Scanning the drive for archives:\n",
            "  0M Scan /content/\b\b\b\b\b\b\b\b\b\b\b\b\b\b\b\b\b\b\b                   \b\b\b\b\b\b\b\b\b\b\b\b\b\b\b\b\b\b\b1 file, 7422 bytes (8 KiB)\n",
            "\n",
            "Extracting archive: /content/stage2_test_variants.7z\n",
            "--\n",
            "Path = /content/stage2_test_variants.7z\n",
            "Type = 7z\n",
            "Physical Size = 7422\n",
            "Headers Size = 146\n",
            "Method = LZMA:16\n",
            "Solid = -\n",
            "Blocks = 1\n",
            "\n",
            "  0%\b\b\b\b    \b\b\b\bEverything is Ok\n",
            "\n",
            "Size:       16255\n",
            "Compressed: 7422\n"
          ],
          "name": "stdout"
        }
      ]
    },
    {
      "cell_type": "markdown",
      "metadata": {
        "id": "CYTc8RyTaFFL"
      },
      "source": [
        "## Reading Data"
      ]
    },
    {
      "cell_type": "code",
      "metadata": {
        "id": "fbaPD9H_Z7P3",
        "colab": {
          "base_uri": "https://localhost:8080/"
        },
        "outputId": "836b9a4c-ec6b-4ec2-dad4-f7a9a9875e80"
      },
      "source": [
        "#Importing the libraries\r\n",
        "import pandas as pd\r\n",
        "import numpy as np\r\n",
        "import nltk\r\n",
        "from tqdm import tqdm\r\n",
        "nltk.download('stopwords')\r\n",
        "import re\r\n",
        "import string \r\n",
        "\r\n",
        "from nltk.corpus import stopwords\r\n",
        "import seaborn as sns\r\n",
        "import matplotlib.pyplot as plt\r\n",
        "from sklearn.metrics import log_loss\r\n",
        "from sklearn.metrics import confusion_matrix\r\n",
        "from sklearn.preprocessing import normalize\r\n",
        "from sklearn.naive_bayes import MultinomialNB\r\n",
        "from sklearn.neighbors import KNeighborsClassifier\r\n",
        "from sklearn.calibration import CalibratedClassifierCV\r\n",
        "from sklearn.linear_model import LogisticRegression\r\n",
        "from sklearn.linear_model import SGDClassifier\r\n",
        "from sklearn.feature_extraction.text import CountVectorizer\r\n",
        "from sklearn.model_selection import train_test_split"
      ],
      "execution_count": 19,
      "outputs": [
        {
          "output_type": "stream",
          "text": [
            "[nltk_data] Downloading package stopwords to /root/nltk_data...\n",
            "[nltk_data]   Package stopwords is already up-to-date!\n"
          ],
          "name": "stdout"
        }
      ]
    },
    {
      "cell_type": "code",
      "metadata": {
        "id": "gjC9YiK3Zf_U"
      },
      "source": [
        "#Need to understand sep = \"\\|\\|\" this part further\r\n",
        "train_variants = pd.read_csv('/content/data/training_variants')\r\n",
        "train_text = pd.read_csv('/content/data/training_text', names = ['ID', 'text'], skiprows = 1, sep = \"\\|\\|\", engine = 'python')\r\n",
        "test_variants = pd.read_csv('/content/data/stage2_test_variants.csv')\r\n",
        "test_text = pd.read_csv('/content/data/stage2_test_text.csv', names = ['ID', 'text'], skiprows = 1, sep = \"\\|\\|\", engine = 'python')"
      ],
      "execution_count": 3,
      "outputs": []
    },
    {
      "cell_type": "markdown",
      "metadata": {
        "id": "yoZTRWN-S27n"
      },
      "source": [
        "## Overview"
      ]
    },
    {
      "cell_type": "code",
      "metadata": {
        "colab": {
          "base_uri": "https://localhost:8080/"
        },
        "id": "M1ntObyN5iPj",
        "outputId": "e6ba1d81-381a-458d-d15b-b10e5d07a35f"
      },
      "source": [
        "#First Let's Merge the text and variants data based on ID\r\n",
        "train_text_variants = train_variants.merge(train_text, on = 'ID', how = 'left')\r\n",
        "\r\n",
        "#Printing few details about data\r\n",
        "print(\"Total Number of points in Training data   : \", train_text_variants.shape[0])\r\n",
        "print(\"Total Number of Columns in Training data  : \", train_text_variants.shape[1])\r\n",
        "print(\"Column Names in Training and Testing data : \", train_text_variants.columns)"
      ],
      "execution_count": 4,
      "outputs": [
        {
          "output_type": "stream",
          "text": [
            "Total Number of points in Training data   :  3321\n",
            "Total Number of Columns in Training data  :  5\n",
            "Column Names in Training and Testing data :  Index(['ID', 'Gene', 'Variation', 'Class', 'text'], dtype='object')\n"
          ],
          "name": "stdout"
        }
      ]
    },
    {
      "cell_type": "code",
      "metadata": {
        "colab": {
          "base_uri": "https://localhost:8080/"
        },
        "id": "o7WKYFfgODfb",
        "outputId": "9a3fdb39-eb29-4d37-e9be-f8de70b9e4c6"
      },
      "source": [
        "#Let's Checkout if we're having any missing values in our data\r\n",
        "print(train_text_variants.isnull().sum())\r\n",
        "\r\n",
        "print(\"\\nWe are Having Missing Values in Text Column, Let's Remove them.\")\r\n",
        "\r\n",
        "#Dropping the Null values\r\n",
        "train_text_variants.dropna(axis = 0, inplace = True)"
      ],
      "execution_count": 5,
      "outputs": [
        {
          "output_type": "stream",
          "text": [
            "ID           0\n",
            "Gene         0\n",
            "Variation    0\n",
            "Class        0\n",
            "text         5\n",
            "dtype: int64\n",
            "\n",
            "We are Having Missing Values in Text Column, Let's Remove them.\n"
          ],
          "name": "stdout"
        }
      ]
    },
    {
      "cell_type": "code",
      "metadata": {
        "colab": {
          "base_uri": "https://localhost:8080/"
        },
        "id": "oiiPu987OW4S",
        "outputId": "b21fb85e-4abc-48d2-d188-15f3f5ba7ada"
      },
      "source": [
        "train_variants['Class'].value_counts()\r\n",
        "#Dataset is highly imbalanced\r\n",
        "\r\n",
        "# As we can See that our data is Highly Imabalanced, So It's better we use any upsampling or down sampling \r\n",
        "# techniuqe to deal with this, but as we are having less data points, so we will be using Upsampling only."
      ],
      "execution_count": 6,
      "outputs": [
        {
          "output_type": "execute_result",
          "data": {
            "text/plain": [
              "7    953\n",
              "4    686\n",
              "1    568\n",
              "2    452\n",
              "6    275\n",
              "5    242\n",
              "3     89\n",
              "9     37\n",
              "8     19\n",
              "Name: Class, dtype: int64"
            ]
          },
          "metadata": {
            "tags": []
          },
          "execution_count": 6
        }
      ]
    },
    {
      "cell_type": "code",
      "metadata": {
        "colab": {
          "base_uri": "https://localhost:8080/"
        },
        "id": "zbCHm9Pncck2",
        "outputId": "9518c4ae-419f-4d6b-863d-60d58ccf4750"
      },
      "source": [
        "#First Let's clean the text column below are the some operations we will be performing on this textual data\r\n",
        "#Also Let's do some preprocessing on Gene and Variations column\r\n",
        "def decontration(text):\r\n",
        "    #below contractons are specific to words and cannot be solved by general solution\r\n",
        "    text = re.sub(r\"aren't\", 'are not', text)\r\n",
        "    text = re.sub(r\"won't\", 'will not', text)\r\n",
        "    text = re.sub(r\"doesn't\", 'does not', text)\r\n",
        "    #Below contractions are general and works for most of the word\r\n",
        "    text = re.sub(r\"n\\'t\", \" not\", text)\r\n",
        "    text = re.sub(r\"\\'re\", \" are\", text)\r\n",
        "    text = re.sub(r\"\\'s\", \" is\", text)\r\n",
        "    text = re.sub(r\"\\'d\", \" would\", text)\r\n",
        "    text = re.sub(r\"\\'ll\", \" will\", text)\r\n",
        "    text = re.sub(r\"\\'t\", \" not\", text)\r\n",
        "    text = re.sub(r\"\\'ve\", \" have\", text)\r\n",
        "    text = re.sub(r\"\\'m\", \" am\", text)\r\n",
        "    return text.lower()\r\n",
        "\r\n",
        "def cleaning_text(text):  \r\n",
        "    text = decontration(text)\r\n",
        "    text  = re.sub('[^A-Za-z0-9]+', ' ', text)\r\n",
        "    #Removing Stopwords\r\n",
        "    stop_words = set(stopwords.words('english'))\r\n",
        "    processed_list = [word for word in text.split() if word not in stop_words]\r\n",
        "    return \" \".join(processed_list)\r\n",
        "\r\n",
        "#Just applying the text cleaning functions to all the values of text column\r\n",
        "preprocessed_text = []\r\n",
        "for text in tqdm(train_text_variants['text']):\r\n",
        "    preprocessed_text.append(cleaning_text(text))\r\n",
        "train_text_variants['text'] = preprocessed_text\r\n",
        "\r\n",
        "#Below Code is just for combining the values with \"_\", if more than one word is there\r\n",
        "#and this task is just for simplicity as this is text data\r\n",
        "train_text_variants['Gene'] = train_text_variants['Gene'].apply(lambda x: \"_\".join(x.split()))\r\n",
        "train_text_variants['Variation'] = train_text_variants['Variation'].apply(lambda x: \"_\".join(x.split()))"
      ],
      "execution_count": 7,
      "outputs": [
        {
          "output_type": "stream",
          "text": [
            "100%|██████████| 3316/3316 [00:23<00:00, 138.94it/s]\n"
          ],
          "name": "stderr"
        }
      ]
    },
    {
      "cell_type": "code",
      "metadata": {
        "colab": {
          "base_uri": "https://localhost:8080/"
        },
        "id": "Z9JpSh8pXrqH",
        "outputId": "5a185646-2977-48a8-bdce-88452ea7ab33"
      },
      "source": [
        "#Now when have cleaned our data, Let's Split our data into train and cross validation and test parts.\r\n",
        "#We we are using 64, 16 and 20 percent split of data\r\n",
        "\r\n",
        "X = train_text_variants.drop(['ID', 'Class',], axis = 1)\r\n",
        "y = train_text_variants['Class']\r\n",
        "X_train, X_test, y_train, y_test = train_test_split(X, y, test_size = 0.2, stratify = y.values)\r\n",
        "X_train, X_cv, y_train, y_cv = train_test_split(X_train, y_train, test_size = 0.2, stratify = y_train)\r\n",
        "print(\"Training Data Shape : \", X_train.shape, y_train.shape)\r\n",
        "print(\"Cross Validataion   : \", X_cv.shape, y_cv.shape)\r\n",
        "print(\"Testing Data Shape  : \", X_test.shape, y_test.shape)"
      ],
      "execution_count": 8,
      "outputs": [
        {
          "output_type": "stream",
          "text": [
            "Training Data Shape :  (2121, 3) (2121,)\n",
            "Cross Validataion   :  (531, 3) (531,)\n",
            "Testing Data Shape  :  (664, 3) (664,)\n"
          ],
          "name": "stdout"
        }
      ]
    },
    {
      "cell_type": "code",
      "metadata": {
        "id": "4Cwpkto9EF-2"
      },
      "source": [
        "#We will be using below Table to keep the record of Various Model Performances\r\n",
        "from prettytable import PrettyTable\r\n",
        "model_scores = PrettyTable()\r\n",
        "model_scores.field_names = [\"Model Name\", \"Train_Acc\", \"CV_Acc\", \"Test_Acc\"]"
      ],
      "execution_count": 9,
      "outputs": []
    },
    {
      "cell_type": "markdown",
      "metadata": {
        "id": "HDSyZdIfRtW7"
      },
      "source": [
        "## Vectorizing Features: "
      ]
    },
    {
      "cell_type": "code",
      "metadata": {
        "id": "f_gzso-HWM97"
      },
      "source": [
        "#here we are using CountVectorizer for converting Gene feature into vector\r\n",
        "#We also will be using response coding for the same task later\r\n",
        "vectorizer_gene  = CountVectorizer()\r\n",
        "vectorized_gene_train = vectorizer_gene.fit_transform(X_train['Gene'])\r\n",
        "vectorized_gene_cv = vectorizer_gene.transform(X_cv['Gene'])\r\n",
        "vectorized_gene_test = vectorizer_gene.transform(X_test['Gene'])"
      ],
      "execution_count": 10,
      "outputs": []
    },
    {
      "cell_type": "code",
      "metadata": {
        "id": "9_XeHk-NhTDx"
      },
      "source": [
        "#here we are using CountVectorizer for converting Variation feature into vector\r\n",
        "#We also will be using response coding for the same task later\r\n",
        "vectorizer_variation  = CountVectorizer()\r\n",
        "vectorized_variation_train = vectorizer_variation.fit_transform(X_train['Variation'])\r\n",
        "vectorized_variation_cv = vectorizer_variation.transform(X_cv['Variation'])\r\n",
        "vectorized_variation_test = vectorizer_variation.transform(X_test['Variation'])"
      ],
      "execution_count": 11,
      "outputs": []
    },
    {
      "cell_type": "code",
      "metadata": {
        "id": "zhnPnHbCiu_j"
      },
      "source": [
        "#Now Let's Deal with the text column\r\n",
        "#here we are using CountVectorizer for converting text feature into vector\r\n",
        "#We also will be using response coding for the same task later\r\n",
        "vectorizer_text  = CountVectorizer(min_df=5)\r\n",
        "vectorized_text_train = normalize(vectorizer_text.fit_transform(X_train['text']))\r\n",
        "vectorized_text_cv = normalize(vectorizer_text.transform(X_cv['text']))\r\n",
        "vectorized_text_test = normalize(vectorizer_text.transform(X_test['text']))"
      ],
      "execution_count": 12,
      "outputs": []
    },
    {
      "cell_type": "code",
      "metadata": {
        "colab": {
          "base_uri": "https://localhost:8080/"
        },
        "id": "JunXo7Pxiu80",
        "outputId": "9a88eb94-ea77-4e2c-9d5c-a751664bc709"
      },
      "source": [
        "#Now when we have our features converted into vectors let's put them together and create the data set\r\n",
        "vectorized_train = np.hstack((vectorized_gene_train.toarray(), vectorized_variation_train.toarray(), vectorized_text_train.toarray()))\r\n",
        "vectorized_cv = np.hstack((vectorized_gene_cv.toarray(), vectorized_variation_cv.toarray(), vectorized_text_cv.toarray()))\r\n",
        "vectorized_test = np.hstack((vectorized_gene_test.toarray(), vectorized_variation_test.toarray(), vectorized_text_test.toarray()))\r\n",
        "\r\n",
        "print(\"Vectorized Training Data Shape    : \", vectorized_train.shape)\r\n",
        "print(\"Vectorized Cross Validation Shape : \", vectorized_cv.shape)\r\n",
        "print(\"Vectorized Testing Data Shape     : \", vectorized_test.shape)"
      ],
      "execution_count": 13,
      "outputs": [
        {
          "output_type": "stream",
          "text": [
            "Vectorized Training Data Shape    :  (2121, 41815)\n",
            "Vectorized Cross Validation Shape :  (531, 41815)\n",
            "Vectorized Testing Data Shape     :  (664, 41815)\n"
          ],
          "name": "stdout"
        }
      ]
    },
    {
      "cell_type": "code",
      "metadata": {
        "id": "ORM6ifMsjTBM"
      },
      "source": [
        "#plot_precsision_recall_heatmap function takes the cross validation data and the classifier and plot the heatmap\r\n",
        "#for precision and recall for cross validation data\r\n",
        "def plot_precision_recall_heatmap(vectorized_cv, y_cv, clf):\r\n",
        "    y_preds = clf.predict(vectorized_cv)\r\n",
        "    cf = confusion_matrix(y_cv, y_preds, labels=clf.classes_)\r\n",
        "    cf_recall = [list(i/sum(i)) for i in cf]\r\n",
        "    cf_precision = [list(i/sum(i)) for i in cf.transpose()]\r\n",
        "\r\n",
        "    #Plotting the Precsion Matrix\r\n",
        "    print(\"==\"*25, \" Precsision Matrix \", \"==\"*25)\r\n",
        "    labels = [1,2,3,4,5,6,7,8,9]\r\n",
        "    plt.figure(figsize=(18,6))\r\n",
        "    sns.heatmap([list(i/sum(i)) for i in cf.transpose()], annot=True, cmap=\"YlGnBu\", xticklabels=labels, yticklabels=labels)\r\n",
        "    plt.xlabel('Predicted Values')\r\n",
        "    plt.ylabel(\"Original Values\")\r\n",
        "    plt.show()\r\n",
        "    \r\n",
        "    #Plotting the Recall Matrix\r\n",
        "    print(\"\\n\",\"==\"*25, \" Recall Matrix \", \"==\"*25)\r\n",
        "    plt.figure(figsize=(18,6))\r\n",
        "    sns.heatmap([list(i/sum(i)) for i in cf], annot=True, cmap=\"YlGnBu\", xticklabels=labels, yticklabels=labels)\r\n",
        "    plt.xlabel('Predicted Values')\r\n",
        "    plt.ylabel(\"Original Values\")\r\n",
        "    plt.show()\r\n",
        "     "
      ],
      "execution_count": 14,
      "outputs": []
    },
    {
      "cell_type": "markdown",
      "metadata": {
        "id": "9guaw7T2F3lS"
      },
      "source": [
        "### Response Coding"
      ]
    },
    {
      "cell_type": "code",
      "metadata": {
        "id": "gBWsEtkIF61m"
      },
      "source": [
        "#First Let's Take Gene Feature \r\n",
        "X_train['Gene']"
      ],
      "execution_count": null,
      "outputs": []
    },
    {
      "cell_type": "markdown",
      "metadata": {
        "id": "dvGRl-NxoA20"
      },
      "source": [
        "## Random Model : "
      ]
    },
    {
      "cell_type": "code",
      "metadata": {
        "colab": {
          "base_uri": "https://localhost:8080/"
        },
        "id": "dOYXokLdoAf7",
        "outputId": "776b7f24-9336-4cc1-ef40-89b2613b3f80"
      },
      "source": [
        "#Here We will be using dummy_classifier from sklearn, as this classifier is very simple and used for this purpose many times\r\n",
        "from sklearn.dummy import DummyClassifier\r\n",
        "from sklearn.metrics import log_loss\r\n",
        "random_clf = DummyClassifier(strategy='uniform')\r\n",
        "random_clf.fit(vectorized_train, y_train)\r\n",
        "\r\n",
        "test_preds = random_clf.predict_proba(vectorized_test)\r\n",
        "cv_preds = random_clf.predict_proba(vectorized_cv)\r\n",
        "print(\"Multi Class Log Loss for Cross Validation data with RM : \", log_loss(y_cv, cv_preds))\r\n",
        "print(\"Multi Class Log Loss for Test Data with Random Model   : \", log_loss(y_test, test_preds))\r\n",
        "\r\n",
        "#Here We can se that we got 2.19 as our Log Loss with our dumb model.\r\n",
        "#So Now can compare our other models with this logloss and find out how much good our model is."
      ],
      "execution_count": null,
      "outputs": [
        {
          "output_type": "stream",
          "text": [
            "Multi Class Log Loss for Cross Validation data with RM :  2.1972245773362196\n",
            "Multi Class Log Loss for Test Data with Random Model   :  2.1972245773362196\n"
          ],
          "name": "stdout"
        }
      ]
    },
    {
      "cell_type": "markdown",
      "metadata": {
        "id": "Abign5dGHvRc"
      },
      "source": [
        "## Analyzing Columns:"
      ]
    },
    {
      "cell_type": "markdown",
      "metadata": {
        "id": "aWdAoY8gMXPq"
      },
      "source": [
        "### Gene"
      ]
    },
    {
      "cell_type": "code",
      "metadata": {
        "colab": {
          "base_uri": "https://localhost:8080/"
        },
        "id": "RUbtaA6WR1n6",
        "outputId": "1297575c-eb5b-49b0-f4ff-cf1e240bc766"
      },
      "source": [
        "print(\"Total Number of Unique Gene : \", X_train['Gene'].nunique())\r\n",
        "print(X_train['Gene'].value_counts()[:5])\r\n",
        "\r\n",
        "#We can see here Gene is the Categorical Variable.\r\n",
        "#We have Total 231 Unique Gene in our Training data and BRCA1 is the most common Gene we are having.\r\n",
        "#But Now We Need to answer most important question about this column.\r\n",
        "#1. Is the Gene Column contributing in the predicting the dependent variable.\r\n",
        "#There are many ways to answer the above question but one of the most popular way is that, \r\n",
        "#We create a random model and and calculate the loss metric and compare it with creating another model\r\n",
        "#with Gene feature only and if the loss is considerbally less than our random model, means Gene Feature is usefull\r\n",
        "#In Order to create Random Model, first we need to do Data Preprocessing on these columns, let's do this first\r\n",
        "#As Gene is the Categorical Variable, we can use Several ways to represnt in Vector form, we will be using two techniques\r\n",
        "#       1. OneHotEncoding\r\n",
        "#       2. Response Coding"
      ],
      "execution_count": null,
      "outputs": [
        {
          "output_type": "stream",
          "text": [
            "Total Number of Unique Gene :  238\n",
            "BRCA1    161\n",
            "TP53     114\n",
            "EGFR      93\n",
            "BRCA2     86\n",
            "PTEN      83\n",
            "Name: Gene, dtype: int64\n"
          ],
          "name": "stdout"
        }
      ]
    },
    {
      "cell_type": "code",
      "metadata": {
        "colab": {
          "base_uri": "https://localhost:8080/"
        },
        "id": "kr3PknouIJvz",
        "outputId": "374ca0df-43cc-43e5-e53f-99cdfc444bc1"
      },
      "source": [
        "#Here We are going to use Naive Bayes Model to check weather feature Gene is usefull or not.\r\n",
        "#We can use anyother model for this task. Here we will be performing Paramter tunning as well\r\n",
        "#In Naive bayes we have alpha as our hyper parameter\r\n",
        "from sklearn.naive_bayes import MultinomialNB\r\n",
        "alphas = [0.001, 0.01, 0.1, 1, 10, 100]\r\n",
        "cv_log_loss = []\r\n",
        "test_log_loss = []\r\n",
        "\r\n",
        "for alpha in alphas:\r\n",
        "    nb_clf = MultinomialNB(alpha = alpha)\r\n",
        "    nb_clf.fit(vectorized_gene_train, y_train)\r\n",
        "    preds_prob_cv = nb_clf.predict_proba(vectorized_gene_cv)\r\n",
        "    preds_prob_test = nb_clf.predict_proba(vectorized_gene_test)\r\n",
        "    loss_cv = log_loss(y_cv, preds_prob_cv)\r\n",
        "    loss_test = log_loss(y_test, preds_prob_test)\r\n",
        "    cv_log_loss.append(loss_cv)\r\n",
        "    test_log_loss.append(loss_test)\r\n",
        "    print(\"CV Log Loss at Alpha {} is  = {}\".format(alpha, loss_cv))\r\n",
        "    print(\"Test Log Loss at Alpha {} is  = {}\".format(alpha, loss_test))\r\n",
        "print(\"\\nBest Hyper Parameter is {} with Log Loss {}\".format(alphas[cv_log_loss.index(min(cv_log_loss))], min(cv_log_loss)))\r\n",
        "print(\"Best Hyper Parameter is {} with Test Loss {}\".format(alphas[test_log_loss.index(min(test_log_loss))], min(test_log_loss)))\r\n",
        "\r\n",
        "print('\\nHere We can see that our CV Loss is 1.22 at best alpha 0.1 and Test Loss is 1.19')\r\n",
        "print(\"and This Loss is way less than our loss of Random Model which is 2.19\")\r\n",
        "print(\"Here We can conclude that Gene as a feature is contributing in Predicting the Cancer Class\")"
      ],
      "execution_count": null,
      "outputs": [
        {
          "output_type": "stream",
          "text": [
            "CV Log Loss at Alpha 0.001 is  = 1.4636026128880026\n",
            "Test Log Loss at Alpha 0.001 is  = 1.4194397286477902\n",
            "CV Log Loss at Alpha 0.01 is  = 1.322545141627616\n",
            "Test Log Loss at Alpha 0.01 is  = 1.2840183790209425\n",
            "CV Log Loss at Alpha 0.1 is  = 1.2262150703000865\n",
            "Test Log Loss at Alpha 0.1 is  = 1.1901904465565591\n",
            "CV Log Loss at Alpha 1 is  = 1.2903155199157408\n",
            "Test Log Loss at Alpha 1 is  = 1.243907783728943\n",
            "CV Log Loss at Alpha 10 is  = 1.5284152581486392\n",
            "Test Log Loss at Alpha 10 is  = 1.492966185587538\n",
            "CV Log Loss at Alpha 100 is  = 1.754876874553541\n",
            "Test Log Loss at Alpha 100 is  = 1.74463498767001\n",
            "\n",
            "Best Hyper Parameter is 0.1 with Log Loss 1.2262150703000865\n",
            "Best Hyper Parameter is 0.1 with Test Loss 1.1901904465565591\n",
            "\n",
            "Here We can see that our CV Loss is 1.22 at best alpha 0.1 and Test Loss is 1.19\n",
            "and This Loss is way less than our loss of Random Model which is 2.19\n",
            "Here We can conclude that Gene as a feature is contributing in Predicting the Cancer Class\n"
          ],
          "name": "stdout"
        }
      ]
    },
    {
      "cell_type": "markdown",
      "metadata": {
        "id": "7nHHJ-IZMai4"
      },
      "source": [
        "### Variation"
      ]
    },
    {
      "cell_type": "code",
      "metadata": {
        "colab": {
          "base_uri": "https://localhost:8080/"
        },
        "id": "sXUZU-sChTHI",
        "outputId": "a925fc7b-1202-4eec-949d-35a670b2aec4"
      },
      "source": [
        "print(\"Total Number of Unique Variations : \", X_train['Variation'].nunique())\r\n",
        "print(X_train['Variation'].value_counts()[:5])\r\n",
        "\r\n",
        "#We can see here Variation is the Categorical Variable.\r\n",
        "#We have Total 1919 Unique Variation and Truncating_Mutations is the most common Variation we are having.\r\n",
        "#But Now We Need to answer most important question about this column.\r\n",
        "#1. Is the Variation Column contributing in the predicting the dependent variable.\r\n",
        "#There are many ways to answer the above question but one of the most popular way is that, \r\n",
        "#We create a random model and and calculate the loss metric and compare it with creating another model\r\n",
        "#with Variation feature only and if the loss is considerbally less than our random model, means Gene Feature is usefull\r\n",
        "#In Order to create Random Model, first we need to do Data Preprocessing on these columns, let's do this first\r\n",
        "#As Variation is the Categorical Variable, we can use Several ways to represnt in Vector form, we will be using two techniques\r\n",
        "#       1. OneHotEncoding\r\n",
        "#       2. Response Coding"
      ],
      "execution_count": null,
      "outputs": [
        {
          "output_type": "stream",
          "text": [
            "Total Number of Unique Variations :  1916\n",
            "Truncating_Mutations    56\n",
            "Deletion                54\n",
            "Amplification           49\n",
            "Fusions                 19\n",
            "Overexpression           5\n",
            "Name: Variation, dtype: int64\n"
          ],
          "name": "stdout"
        }
      ]
    },
    {
      "cell_type": "code",
      "metadata": {
        "colab": {
          "base_uri": "https://localhost:8080/"
        },
        "id": "r8K0jvS8Mfuw",
        "outputId": "55d4c418-9dea-4b77-d904-fbf6f9793a3a"
      },
      "source": [
        "#Here We are going to use Naive Bayes Model to check weather feature Variation is usefull or not.\r\n",
        "#We can use any other model for this task. Here we will be performing Paramter tunning as well\r\n",
        "#In Naive bayes we have alpha as our hyper parameter\r\n",
        "from sklearn.naive_bayes import MultinomialNB\r\n",
        "alphas = [0.001, 0.01, 0.1, 1, 10, 100]\r\n",
        "cv_log_loss = []\r\n",
        "test_log_loss = []\r\n",
        "\r\n",
        "for alpha in alphas:\r\n",
        "    nb_clf = MultinomialNB(alpha = alpha)\r\n",
        "    nb_clf.fit(vectorized_variation_train, y_train)\r\n",
        "    preds_prob_cv = nb_clf.predict_proba(vectorized_variation_cv)\r\n",
        "    preds_prob_test = nb_clf.predict_proba(vectorized_variation_test)\r\n",
        "    loss_cv = log_loss(y_cv, preds_prob_cv)\r\n",
        "    loss_test = log_loss(y_test, preds_prob_test)\r\n",
        "    cv_log_loss.append(loss_cv)\r\n",
        "    test_log_loss.append(loss_test)\r\n",
        "    print(\"CV Log Loss at Alpha {} is  = {}\".format(alpha, loss_cv))\r\n",
        "    print(\"Test Log Loss at Alpha {} is  = {}\".format(alpha, loss_test))\r\n",
        "print(\"\\nBest Hyper Parameter is {} with Log Loss {}\".format(alphas[cv_log_loss.index(min(cv_log_loss))], min(cv_log_loss)))\r\n",
        "print(\"Best Hyper Parameter is {} with Test Loss {}\".format(alphas[test_log_loss.index(min(test_log_loss))], min(test_log_loss)))\r\n",
        "\r\n",
        "print('\\nHere We can see that our CV Loss is 1.711 at best alpha 0.1 and Test Loss is 1.69')\r\n",
        "print(\"and This Loss is way less than our loss of Random Model which is 2.19\")\r\n",
        "print(\"Here We can conclude that Variation as a feature is contributing in Predicting the Cancer Class\")"
      ],
      "execution_count": null,
      "outputs": [
        {
          "output_type": "stream",
          "text": [
            "CV Log Loss at Alpha 0.001 is  = 1.7850590202156127\n",
            "Test Log Loss at Alpha 0.001 is  = 1.736942187318968\n",
            "CV Log Loss at Alpha 0.01 is  = 1.741048088347862\n",
            "Test Log Loss at Alpha 0.01 is  = 1.7106091985521499\n",
            "CV Log Loss at Alpha 0.1 is  = 1.7118932507624252\n",
            "Test Log Loss at Alpha 0.1 is  = 1.6936690713166698\n",
            "CV Log Loss at Alpha 1 is  = 1.7183861214694203\n",
            "Test Log Loss at Alpha 1 is  = 1.7072555757344177\n",
            "CV Log Loss at Alpha 10 is  = 1.7660430399015365\n",
            "Test Log Loss at Alpha 10 is  = 1.7582061264439695\n",
            "CV Log Loss at Alpha 100 is  = 1.8153526954335315\n",
            "Test Log Loss at Alpha 100 is  = 1.8126717100878043\n",
            "\n",
            "Best Hyper Parameter is 0.1 with Log Loss 1.7118932507624252\n",
            "Best Hyper Parameter is 0.1 with Test Loss 1.6936690713166698\n",
            "\n",
            "Here We can see that our CV Loss is 1.711 at best alpha 0.1 and Test Loss is 1.69\n",
            "and This Loss is way less than our loss of Random Model which is 2.19\n",
            "Here We can conclude that Variation as a feature is contributing in Predicting the Cancer Class\n"
          ],
          "name": "stdout"
        }
      ]
    },
    {
      "cell_type": "markdown",
      "metadata": {
        "id": "gdyzQQS6OKj8"
      },
      "source": [
        "### text"
      ]
    },
    {
      "cell_type": "code",
      "metadata": {
        "colab": {
          "base_uri": "https://localhost:8080/"
        },
        "id": "E8bxo7sWOJ0i",
        "outputId": "07bf1abf-e33a-4ec8-f519-09d39aaf9891"
      },
      "source": [
        "#Here We are going to use Naive Bayes Model to check weather feature Variation is usefull or not.\r\n",
        "#We can use any other model for this task. Here we will be performing Paramter tunning as well\r\n",
        "#In Naive bayes we have alpha as our hyper parameter\r\n",
        "from sklearn.naive_bayes import MultinomialNB\r\n",
        "alphas = [0.001, 0.01, 0.1, 1, 10, 100]\r\n",
        "cv_log_loss = []\r\n",
        "test_log_loss = []\r\n",
        "\r\n",
        "for alpha in alphas:\r\n",
        "    nb_clf = MultinomialNB(alpha = alpha)\r\n",
        "    nb_clf.fit(vectorized_text_train, y_train)\r\n",
        "    preds_prob_cv = nb_clf.predict_proba(vectorized_text_cv)\r\n",
        "    preds_prob_test = nb_clf.predict_proba(vectorized_text_test)\r\n",
        "    loss_cv = log_loss(y_cv, preds_prob_cv)\r\n",
        "    loss_test = log_loss(y_test, preds_prob_test)\r\n",
        "    cv_log_loss.append(loss_cv)\r\n",
        "    test_log_loss.append(loss_test)\r\n",
        "    print(\"CV Log Loss at Alpha {} is  = {}\".format(alpha, loss_cv))\r\n",
        "    print(\"Test Log Loss at Alpha {} is  = {}\".format(alpha, loss_test))\r\n",
        "print(\"\\nBest Hyper Parameter is {} with Log Loss {}\".format(alphas[cv_log_loss.index(min(cv_log_loss))], min(cv_log_loss)))\r\n",
        "print(\"Best Hyper Parameter is {} with Test Loss {}\".format(alphas[test_log_loss.index(min(test_log_loss))], min(test_log_loss)))\r\n",
        "\r\n",
        "print('\\nHere We can see that our CV Loss is 1.56 at best alpha 0.1 and Test Loss is 1.60')\r\n",
        "print(\"and This Loss is way less than our loss of Random Model which is 2.19\")\r\n",
        "print(\"Here We can conclude that text as a feature is contributing in Predicting the Cancer Class\")"
      ],
      "execution_count": null,
      "outputs": [
        {
          "output_type": "stream",
          "text": [
            "CV Log Loss at Alpha 0.001 is  = 1.6801522674893121\n",
            "Test Log Loss at Alpha 0.001 is  = 1.6926939569061978\n",
            "CV Log Loss at Alpha 0.01 is  = 1.5678869431597027\n",
            "Test Log Loss at Alpha 0.01 is  = 1.605925635473116\n",
            "CV Log Loss at Alpha 0.1 is  = 2.4693684709598087\n",
            "Test Log Loss at Alpha 0.1 is  = 2.2906924860779285\n",
            "CV Log Loss at Alpha 1 is  = 3.533550001652461\n",
            "Test Log Loss at Alpha 1 is  = 3.251911905455333\n",
            "CV Log Loss at Alpha 10 is  = 2.397319135776618\n",
            "Test Log Loss at Alpha 10 is  = 2.2794180779047655\n",
            "CV Log Loss at Alpha 100 is  = 1.808629831974369\n",
            "Test Log Loss at Alpha 100 is  = 1.789410331679854\n",
            "\n",
            "Best Hyper Parameter is 0.01 with Log Loss 1.5678869431597027\n",
            "Best Hyper Parameter is 0.01 with Test Loss 1.605925635473116\n",
            "\n",
            "Here We can see that our CV Loss is 1.56 at best alpha 0.1 and Test Loss is 1.60\n",
            "and This Loss is way less than our loss of Random Model which is 2.19\n",
            "Here We can conclude that text as a feature is contributing in Predicting the Cancer Class\n"
          ],
          "name": "stdout"
        }
      ]
    },
    {
      "cell_type": "markdown",
      "metadata": {
        "id": "L4_jXpwQ-RZW"
      },
      "source": [
        "## Other Models:"
      ]
    },
    {
      "cell_type": "markdown",
      "metadata": {
        "id": "s1BmAN-geFkg"
      },
      "source": [
        "### Naive Bayes: "
      ]
    },
    {
      "cell_type": "code",
      "metadata": {
        "colab": {
          "base_uri": "https://localhost:8080/",
          "height": 465
        },
        "id": "iGtJW4xX-ZYu",
        "outputId": "107e1407-0759-41d7-f862-71690027cc9b"
      },
      "source": [
        "#First Let's try Naive bayes Model and we will be performing Parameter Tuning as well\r\n",
        "#In Naive bayes we have alpha as our hyper parameter\r\n",
        "alphas = [0.0001, 0.001, 0.01, 0.1, 1, 10, 100]\r\n",
        "log_loss_list = []\r\n",
        "for alpha in alphas:\r\n",
        "    clf = MultinomialNB(alpha = alpha)\r\n",
        "    clf.fit(vectorized_train, y_train)\r\n",
        "    calb_clf = CalibratedClassifierCV(clf, method='sigmoid')\r\n",
        "    calb_clf.fit(vectorized_train, y_train)\r\n",
        "    preds_prob_cv = calb_clf.predict_proba(vectorized_cv)\r\n",
        "    loss = log_loss(y_cv, preds_prob_cv)\r\n",
        "    log_loss_list.append(loss)\r\n",
        "    print(\"Log Loss at Alpha {} is  = {}\".format(alpha, loss))\r\n",
        "print(\"\\nBest Hyper Parameter is {} with Log Loss {}\\n\".format(alphas[log_loss_list.index(min(log_loss_list))], min(log_loss_list)))\r\n",
        "\r\n",
        "plt.plot(alphas, log_loss_list, c = 'g')\r\n",
        "plt.grid()\r\n",
        "plt.title(\"CV Error for All alpha's\")\r\n",
        "plt.xlabel(\"Alpha Values\")\r\n",
        "plt.ylabel(\"Log Loss\")\r\n",
        "plt.show()\r\n",
        "#Here We can see that our Loss is 1.16 at best alpha 0.1\r\n",
        "#and This Loss is way less than our loss of Random Model which 2.19\r\n",
        "#Here We can conclude that Gene as feature is contributing in Predicting the Cancer Class"
      ],
      "execution_count": 22,
      "outputs": [
        {
          "output_type": "stream",
          "text": [
            "Log Loss at Alpha 0.0001 is  = 1.1032349433338444\n",
            "Log Loss at Alpha 0.001 is  = 1.0987520556292067\n",
            "Log Loss at Alpha 0.01 is  = 1.109022561964913\n",
            "Log Loss at Alpha 0.1 is  = 1.1860862677836526\n",
            "Log Loss at Alpha 1 is  = 1.333230058043797\n",
            "Log Loss at Alpha 10 is  = 1.3459216518909904\n",
            "Log Loss at Alpha 100 is  = 1.331655986245146\n",
            "\n",
            "Best Hyper Parameter is 0.001 with Log Loss 1.0987520556292067\n",
            "\n"
          ],
          "name": "stdout"
        },
        {
          "output_type": "display_data",
          "data": {
            "image/png": "[encoded data removed]",
            "text/plain": [
              "<Figure size 432x288 with 1 Axes>"
            ]
          },
          "metadata": {
            "tags": [],
            "needs_background": "light"
          }
        }
      ]
    },
    {
      "cell_type": "code",
      "metadata": {
        "colab": {
          "base_uri": "https://localhost:8080/"
        },
        "id": "blKZB3UM8fpx",
        "outputId": "46494b30-5219-4334-edad-d2d73c7d9b1c"
      },
      "source": [
        "#So Now When we have our best Hyper Parameter let's train our model\r\n",
        "clf = MultinomialNB(alpha = 0.001)\r\n",
        "clf.fit(vectorized_train, y_train)\r\n",
        "calb_clf = CalibratedClassifierCV(clf, method='sigmoid')\r\n",
        "calb_clf.fit(vectorized_train, y_train)\r\n",
        "cv_preds = calb_clf.predict_proba(vectorized_cv)\r\n",
        "test_preds = calb_clf.predict_proba(vectorized_test)\r\n",
        "train_preds = calb_clf.predict_proba(vectorized_train)\r\n",
        "\r\n",
        "print(\"Train Log Loss : \", log_loss(y_train, train_preds))\r\n",
        "print(\"CV Log Loss    : \", log_loss(y_cv, cv_preds))\r\n",
        "print(\"Test Log Loss  : \", log_loss(y_test, test_preds))\r\n",
        "\r\n",
        "#Here We can see that training, CV and testing logs are similar to each other\r\n",
        "#This Confirms that our model is not overfitting"
      ],
      "execution_count": 30,
      "outputs": [
        {
          "output_type": "stream",
          "text": [
            "Train Log Loss :  0.5420552345462397\n",
            "CV Log Loss    :  1.0987520556292067\n",
            "Test Log Loss  :  1.1627875586055245\n"
          ],
          "name": "stdout"
        }
      ]
    },
    {
      "cell_type": "code",
      "metadata": {
        "colab": {
          "base_uri": "https://localhost:8080/",
          "height": 818
        },
        "id": "tNXdEX6i-Ai9",
        "outputId": "f8d356c0-8a5a-4992-f3fd-9ad1528e8f01"
      },
      "source": [
        "#As we can see we have 9 classes to predict, so when we want find out the actual performance of our model\r\n",
        "#Then it's good idea to check the performance class wise, because sometimes our model predict very well on few classes\r\n",
        "#and very poor on other classes and if our model is good for most of the classes and poor on 1 or 2 classes which is less\r\n",
        "#frequent then also we may consider our model to be good. and this totaly depends on sceneario and requirements.\r\n",
        "\r\n",
        "plot_precision_recall_heatmap(vectorized_cv, y_cv, clf)\r\n",
        "\r\n",
        "#Here we can see that our model is working cosiderbally good on class 1, 2, 4, 6, 7, 8, 9\r\n",
        "#But on class 3 and 5 model is not so much good.\r\n",
        "#Same we can check the recall as well."
      ],
      "execution_count": 32,
      "outputs": [
        {
          "output_type": "stream",
          "text": [
            "==================================================  Precsision Matrix  ==================================================\n"
          ],
          "name": "stdout"
        },
        {
          "output_type": "display_data",
          "data": {
            "image/png": "[encoded data removed]",
            "text/plain": [
              "<Figure size 1296x432 with 2 Axes>"
            ]
          },
          "metadata": {
            "tags": [],
            "needs_background": "light"
          }
        },
        {
          "output_type": "stream",
          "text": [
            "\n",
            " ==================================================  Recall Matrix  ==================================================\n"
          ],
          "name": "stdout"
        },
        {
          "output_type": "display_data",
          "data": {
            "image/png": "[encoded data removed]",
            "text/plain": [
              "<Figure size 1296x432 with 2 Axes>"
            ]
          },
          "metadata": {
            "tags": [],
            "needs_background": "light"
          }
        }
      ]
    },
    {
      "cell_type": "markdown",
      "metadata": {
        "id": "m2IzOSjirawL"
      },
      "source": [
        "### Logistic Regression"
      ]
    },
    {
      "cell_type": "code",
      "metadata": {
        "colab": {
          "base_uri": "https://localhost:8080/",
          "height": 448
        },
        "id": "BC5K7JCA8fmZ",
        "outputId": "feafa1a8-7c3a-4b4b-d2c0-3747abaf766d"
      },
      "source": [
        "#First Let's try Naive bayes Model and we will be performing Parameter Tuning as well\r\n",
        "#In Naive bayes we have alpha as our hyper parameter\r\n",
        "\r\n",
        "alphas = [0.0001, 0.001, 0.01, 0.1, 1, 10]\r\n",
        "log_loss_list = []\r\n",
        "\r\n",
        "for alpha in alphas:\r\n",
        "    clf = SGDClassifier(class_weight='balanced', alpha=alpha, penalty='l2', loss='log', random_state=95)\r\n",
        "    clf.fit(vectorized_train, y_train)\r\n",
        "    calb_clf = CalibratedClassifierCV(clf, method='sigmoid')\r\n",
        "    calb_clf.fit(vectorized_train, y_train)\r\n",
        "    preds_prob_cv = calb_clf.predict_proba(vectorized_cv)\r\n",
        "    loss = log_loss(y_cv, preds_prob_cv)\r\n",
        "    log_loss_list.append(loss)\r\n",
        "    print(\"Log Loss at Alpha {} is  = {}\".format(alpha, loss))\r\n",
        "print(\"\\nBest Hyper Parameter is {} with Log Loss {}\\n\".format(alphas[log_loss_list.index(min(log_loss_list))], min(log_loss_list)))\r\n",
        "\r\n",
        "plt.plot(alphas, log_loss_list, c = 'g')\r\n",
        "plt.grid()\r\n",
        "plt.title(\"CV Error for All alpha's\")\r\n",
        "plt.xlabel(\"Alpha Values\")\r\n",
        "plt.ylabel(\"Log Loss\")\r\n",
        "plt.show()\r\n",
        "#Here We can see that our Loss is 1.16 at best alpha 0.1\r\n",
        "#and This Loss is way less than our loss of Random Model which 2.19\r\n",
        "#Here We can conclude that Gene as feature is contributing in Predicting the Cancer Class"
      ],
      "execution_count": null,
      "outputs": [
        {
          "output_type": "stream",
          "text": [
            "Log Loss at Alpha 0.0001 is  = 1.0014041946170387\n",
            "Log Loss at Alpha 0.001 is  = 1.1761176014484658\n",
            "Log Loss at Alpha 0.01 is  = 1.675683689012762\n",
            "Log Loss at Alpha 0.1 is  = 2.0409614180889735\n",
            "Log Loss at Alpha 1 is  = 2.089847170210001\n",
            "Log Loss at Alpha 10 is  = 2.141115479920478\n",
            "\n",
            "Best Hyper Parameter is 0.0001 with Log Loss 1.0014041946170387\n",
            "\n"
          ],
          "name": "stdout"
        },
        {
          "output_type": "display_data",
          "data": {
            "image/png": "[encoded data removed]",
            "text/plain": [
              "<Figure size 432x288 with 1 Axes>"
            ]
          },
          "metadata": {
            "tags": [],
            "needs_background": "light"
          }
        }
      ]
    },
    {
      "cell_type": "code",
      "metadata": {
        "colab": {
          "base_uri": "https://localhost:8080/"
        },
        "id": "7hQyxyYY8fjX",
        "outputId": "2009c7b8-c9a6-458a-d5b6-e1beb9297a82"
      },
      "source": [
        "#So Now When we have our best Hyper Parameter let's train our model\r\n",
        "clf = SGDClassifier(class_weight='balanced', alpha=0.0001, penalty='l2', loss='log', random_state=42)\r\n",
        "clf.fit(vectorized_train, y_train)\r\n",
        "calb_clf = CalibratedClassifierCV(clf, method='sigmoid')\r\n",
        "calb_clf.fit(vectorized_train, y_train)\r\n",
        "cv_preds = calb_clf.predict_proba(vectorized_cv)\r\n",
        "test_preds = calb_clf.predict_proba(vectorized_test)\r\n",
        "train_preds = calb_clf.predict_proba(vectorized_train)\r\n",
        "\r\n",
        "print(\"Train Log Loss : \", log_loss(y_train, train_preds))\r\n",
        "print(\"CV Log Loss    : \", log_loss(y_cv, cv_preds))\r\n",
        "print(\"Test Log Loss  : \", log_loss(y_test, test_preds))\r\n",
        "\r\n",
        "#Here We can see that training, CV and testing logs are similar to each other\r\n",
        "#This Confirms that our model is not overfitting"
      ],
      "execution_count": 33,
      "outputs": [
        {
          "output_type": "stream",
          "text": [
            "Train Log Loss :  0.39879551829758986\n",
            "CV Log Loss    :  0.935251642832111\n",
            "Test Log Loss  :  1.0016253354081914\n"
          ],
          "name": "stdout"
        }
      ]
    },
    {
      "cell_type": "code",
      "metadata": {
        "colab": {
          "base_uri": "https://localhost:8080/",
          "height": 814
        },
        "id": "2sf9tvlwfRRK",
        "outputId": "275a3541-b917-4cbf-92cd-ff7ed49afd75"
      },
      "source": [
        "#As we can see we have 9 classes to predict, so when we want find out the actual performance of our model\r\n",
        "#Then it's good idea to check the performance class wise, because sometimes our model predict very well on few classes\r\n",
        "#and very poor on other classes and if our model is good for most of the classes and poor on 1 or 2 classes which is less\r\n",
        "#frequent then also we may consider our model to be good. and this totaly depends on sceneario and requirements.\r\n",
        "\r\n",
        "plot_precision_recall_heatmap(vectorized_cv, y_cv, clf)\r\n",
        "\r\n",
        "#Here we can see that our model is working cosiderbally good on class 1, 2, 4, 6, 7, 8, 9\r\n",
        "#But on class 3 and 5 model is not so much good.\r\n",
        "#Same we can check the recall as well."
      ],
      "execution_count": 36,
      "outputs": [
        {
          "output_type": "stream",
          "text": [
            "==================================================  Precsision Matrix  ==================================================\n"
          ],
          "name": "stdout"
        },
        {
          "output_type": "display_data",
          "data": {
            "image/png": "[encoded data removed]",
            "text/plain": [
              "<Figure size 1296x432 with 2 Axes>"
            ]
          },
          "metadata": {
            "tags": [],
            "needs_background": "light"
          }
        },
        {
          "output_type": "stream",
          "text": [
            "\n",
            " ==================================================  Recall Matrix  ==================================================\n"
          ],
          "name": "stdout"
        },
        {
          "output_type": "display_data",
          "data": {
            "image/png": "[encoded data removed]",
            "text/plain": [
              "<Figure size 1296x432 with 2 Axes>"
            ]
          },
          "metadata": {
            "tags": [],
            "needs_background": "light"
          }
        }
      ]
    },
    {
      "cell_type": "markdown",
      "metadata": {
        "id": "YyhEsjXUkaBz"
      },
      "source": [
        "### KNN"
      ]
    },
    {
      "cell_type": "code",
      "metadata": {
        "colab": {
          "base_uri": "https://localhost:8080/",
          "height": 482
        },
        "id": "L04rXeZqqHpp",
        "outputId": "3c1a233f-5d30-477d-c708-d24a4a66a2e2"
      },
      "source": [
        "\r\n",
        "#First Let's try Naive bayes Model and we will be performing Parameter Tuning as well\r\n",
        "#In Naive bayes we have alpha as our hyper parameter\r\n",
        "#alpha here is number of neighbors\r\n",
        "alphas = [5, 11, 15, 21, 31, 41, 51, 99]\r\n",
        "log_loss_list = []\r\n",
        "\r\n",
        "for alpha in alphas:\r\n",
        "    clf = KNeighborsClassifier(n_neighbors=alpha)\r\n",
        "    clf.fit(vectorized_train, y_train)\r\n",
        "    calb_clf = CalibratedClassifierCV(clf, method='sigmoid')\r\n",
        "    calb_clf.fit(vectorized_train, y_train)\r\n",
        "    preds_prob_cv = calb_clf.predict_proba(vectorized_cv)\r\n",
        "    loss = log_loss(y_cv, preds_prob_cv)\r\n",
        "    log_loss_list.append(loss)\r\n",
        "    print(\"Log Loss at Alpha {} is  = {}\".format(alpha, loss))\r\n",
        "print(\"\\nBest Hyper Parameter is {} with Log Loss {}\\n\".format(alphas[log_loss_list.index(min(log_loss_list))], min(log_loss_list)))\r\n",
        "\r\n",
        "plt.plot(alphas, log_loss_list, c = 'g')\r\n",
        "plt.grid()\r\n",
        "plt.title(\"CV Error for All alpha's\")\r\n",
        "plt.xlabel(\"Alpha Values\")\r\n",
        "plt.ylabel(\"Log Loss\")\r\n",
        "plt.show()\r\n",
        "#Here We can see that our Loss is 1.16 at best alpha 0.1\r\n",
        "#and This Loss is way less than our loss of Random Model which 2.19\r\n",
        "#Here We can conclude that Gene as feature is contributing in Predicting the Cancer Class"
      ],
      "execution_count": null,
      "outputs": [
        {
          "output_type": "stream",
          "text": [
            "Log Loss at Alpha 5 is  = 1.0933936905958526\n",
            "Log Loss at Alpha 11 is  = 1.125272604677224\n",
            "Log Loss at Alpha 15 is  = 1.142904620989123\n",
            "Log Loss at Alpha 21 is  = 1.173404395206928\n",
            "Log Loss at Alpha 31 is  = 1.2071586537867467\n",
            "Log Loss at Alpha 41 is  = 1.2240992876330699\n",
            "Log Loss at Alpha 51 is  = 1.2462597526379\n",
            "Log Loss at Alpha 99 is  = 1.2859324469005995\n",
            "\n",
            "Best Hyper Parameter is 5 with Log Loss 1.0933936905958526\n",
            "\n"
          ],
          "name": "stdout"
        },
        {
          "output_type": "display_data",
          "data": {
            "image/png": "[encoded data removed]",
            "text/plain": [
              "<Figure size 432x288 with 1 Axes>"
            ]
          },
          "metadata": {
            "tags": [],
            "needs_background": "light"
          }
        }
      ]
    },
    {
      "cell_type": "code",
      "metadata": {
        "id": "4W4CAOuoHnb5"
      },
      "source": [
        "#So Now When we have our best Hyper Parameter let's train our model\r\n",
        "clf =  KNeighborsClassifier(n_neighbors=5)\r\n",
        "clf.fit(vectorized_train, y_train)\r\n",
        "calb_clf = CalibratedClassifierCV(clf, method='sigmoid')\r\n",
        "calb_clf.fit(vectorized_train, y_train)\r\n",
        "cv_preds = calb_clf.predict_proba(vectorized_cv)\r\n",
        "test_preds = calb_clf.predict_proba(vectorized_test)\r\n",
        "train_preds = calb_clf.predict_proba(vectorized_train)\r\n",
        "\r\n",
        "print(\"Train Log Loss : \", log_loss(y_train, train_preds))\r\n",
        "print(\"CV Log Loss    : \", log_loss(y_cv, cv_preds))\r\n",
        "print(\"Test Log Loss  : \", log_loss(y_test, test_preds))\r\n",
        "\r\n",
        "#Here We can see that training, CV and testing logs are similar to each other\r\n",
        "#This Confirms that our model is not overfitting"
      ],
      "execution_count": null,
      "outputs": []
    },
    {
      "cell_type": "code",
      "metadata": {
        "id": "ZWQ87Z3jk-1q"
      },
      "source": [
        "#As we can see we have 9 classes to predict, so when we want find out the actual performance of our model\r\n",
        "#Then it's good idea to check the performance class wise, because sometimes our model predict very well on few classes\r\n",
        "#and very poor on other classes and if our model is good for most of the classes and poor on 1 or 2 classes which is less\r\n",
        "#frequent then also we may consider our model to be good. and this totaly depends on sceneario and requirements.\r\n",
        "\r\n",
        "plot_precision_recall_heatmap(vectorized_cv, y_cv, clf)\r\n",
        "\r\n",
        "#Here we can see that our model is working cosiderbally good on class 1, 2, 4, 6, 7, 8, 9\r\n",
        "#But on class 3 and 5 model is not so much good.\r\n",
        "#Same we can check the recall as well."
      ],
      "execution_count": null,
      "outputs": []
    },
    {
      "cell_type": "code",
      "metadata": {
        "id": "g9lhjjf3k-wx"
      },
      "source": [
        ""
      ],
      "execution_count": null,
      "outputs": []
    },
    {
      "cell_type": "code",
      "metadata": {
        "colab": {
          "base_uri": "https://localhost:8080/"
        },
        "id": "PQBtToGYNdY3",
        "outputId": "cc599167-f6b2-407f-fa77-9782ad07dbdf"
      },
      "source": [
        ""
      ],
      "execution_count": null,
      "outputs": [
        {
          "output_type": "execute_result",
          "data": {
            "text/plain": [
              "array([1, 2, 3, 4, 5, 6, 7, 8, 9])"
            ]
          },
          "metadata": {
            "tags": []
          },
          "execution_count": 16
        }
      ]
    },
    {
      "cell_type": "code",
      "metadata": {
        "colab": {
          "base_uri": "https://localhost:8080/"
        },
        "id": "kQAE4Vw3s6NE",
        "outputId": "6e13c275-1984-475a-f643-4fc2a9d8c15f"
      },
      "source": [
        "test_preds[0]"
      ],
      "execution_count": null,
      "outputs": [
        {
          "output_type": "execute_result",
          "data": {
            "text/plain": [
              "array([0.06334707, 0.28219475, 0.04454006, 0.07178682, 0.05022225,\n",
              "       0.01990823, 0.41422293, 0.02809235, 0.02568554])"
            ]
          },
          "metadata": {
            "tags": []
          },
          "execution_count": 15
        }
      ]
    },
    {
      "cell_type": "code",
      "metadata": {
        "id": "-ryHiObQs6KZ"
      },
      "source": [
        ""
      ],
      "execution_count": null,
      "outputs": []
    },
    {
      "cell_type": "code",
      "metadata": {
        "id": "yJdLzb_bs6HW"
      },
      "source": [
        ""
      ],
      "execution_count": null,
      "outputs": []
    },
    {
      "cell_type": "code",
      "metadata": {
        "id": "J5XAC_UNs6DT"
      },
      "source": [
        ""
      ],
      "execution_count": null,
      "outputs": []
    },
    {
      "cell_type": "code",
      "metadata": {
        "id": "H6aiJ_z8s5_q"
      },
      "source": [
        ""
      ],
      "execution_count": null,
      "outputs": []
    },
    {
      "cell_type": "code",
      "metadata": {
        "id": "7_MswwvAFDem"
      },
      "source": [
        "#Now When we have best hyper parameter Let's Train our Model again and check performance\r\n",
        "nb_clf = MultinomialNB(alpha = 0.1)\r\n",
        "nb_clf = fit."
      ],
      "execution_count": null,
      "outputs": []
    },
    {
      "cell_type": "code",
      "metadata": {
        "id": "VBNAhdxJn9RZ"
      },
      "source": [
        "model_scores.add_row(['Naive_Bayes', 'NA', '1.16', 'NA'])"
      ],
      "execution_count": null,
      "outputs": []
    },
    {
      "cell_type": "code",
      "metadata": {
        "colab": {
          "base_uri": "https://localhost:8080/"
        },
        "id": "kT6PXaSnn9Of",
        "outputId": "70e2177d-e1b7-4817-d987-602ba07a1181"
      },
      "source": [
        "print(model_scores)"
      ],
      "execution_count": null,
      "outputs": [
        {
          "output_type": "stream",
          "text": [
            "+-------------+-----------+--------+----------+\n",
            "|  Model Name | Train_Acc | CV_Acc | Test_Acc |\n",
            "+-------------+-----------+--------+----------+\n",
            "| Naive_Bayes |     NA    |  1.16  |    NA    |\n",
            "+-------------+-----------+--------+----------+\n"
          ],
          "name": "stdout"
        }
      ]
    },
    {
      "cell_type": "code",
      "metadata": {
        "id": "Pueaqztnc-ln"
      },
      "source": [
        "sub_cols = ['class1', 'class2', 'class3', 'class4', 'class5', 'class6', 'class7', 'class8', 'class9']\r\n",
        "submission = pd.DataFrame(y_preds, columns=sub_cols)\r\n",
        "submission.insert(0, \"ID\", test_text['ID'])\r\n",
        "submission.to_csv('submission_can.csv', index = False)"
      ],
      "execution_count": null,
      "outputs": []
    }
  ]
}