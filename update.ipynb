
## About the Data

<h2 style="user-select: auto;"> Overview </h2>
<a href = "https://www.kaggle.com/c/msk-redefining-cancer-treatment/overview">Kaggle Link</a> 
<div class="markdown-converter__text--rendered"><p>A lot has been said during the past several years about how precision medicine and, more concretely, how genetic testing is going to disrupt the way diseases like cancer are treated.</p>
<p>But this is only partially happening due to the huge amount of manual work still required. Memorial Sloan Kettering Cancer Center (MSKCC) launched this competition, accepted by the <a href="https://nips.cc/Conferences/2017/CompetitionTrack">NIPS 2017 Competition Track</a>, &nbsp;because we need your help to take personalized medicine to its full potential.</p>
<p><img height="171" width="1066" alt="" src="https://storage.googleapis.com/kaggle-competitions/kaggle/6841/media/79842_Web-hero-image_ALT-3.jpg"></p>
<p>Once sequenced, a cancer tumor can have thousands of genetic mutations. But the challenge is distinguishing the mutations that contribute to tumor growth (drivers) from the neutral mutations (passengers).&nbsp;</p>
<p>Currently this interpretation of genetic mutations is being done manually. This is a very time-consuming task where a clinical pathologist has to manually review and classify every single genetic mutation based on evidence from text-based clinical literature.</p>
<p>For this competition MSKCC is making available an expert-annotated knowledge base where world-class researchers and oncologists have manually annotated thousands of mutations.</p>
<p>We need your help to develop a Machine Learning algorithm that, using this knowledge base as a baseline, automatically classifies genetic variations.</p>

<h2 style="user-select: auto;">Submission File</h2>
<p style="user-select: auto;">For each ID&nbsp;in the test set, you must predict a probability for each of the different classes a genetic mutation can be classified on. The file should contain a header and have the following format:</p>
<pre style="user-select: auto;">ID,class1,class2,class3,class4,class5,class6,class7,class8,class9<br style="user-select: auto;">0,0.1,0.7,0.05,0.05,0.1,0,0,0,0<br style="user-select: auto;">1,0.7,0.1,0.05,0.05,0.1,0,0,0,0<br style="user-select: auto;">2,0.05,0.05,0.1,0.7,0.1,0,0,0,0<br style="user-select: auto;">3,0,0,0,0,0.05,0.05,0.1,0,7,0,1<br style="user-select: auto;">etc.</pre>

<h2 style="user-select: auto;"> Data Description </h2>

<div class="sc-pAAKw bdWqNH" style="user-select: auto;"><div class="markdown-converter__text--rendered" style="user-select: auto;"><p style="user-select: auto;">In this competition you will develop algorithms to classify genetic mutations based on clinical evidence (text).</p>
<p style="user-select: auto;">There are nine different classes a genetic mutation can be classified on.</p>
<p style="user-select: auto;">This is not a trivial task since interpreting clinical evidence is very challenging even for human specialists. Therefore, modeling the clinical evidence (text) will be critical for the success of your approach.</p>
<p style="user-select: auto;">Both, training and test, data sets are provided via two different files. One (training/test_variants) provides the information about the genetic mutations, whereas the other (training/test_text) provides the clinical evidence (text) that our human experts used to classify the genetic mutations. Both are linked via the ID field.</p>
<p style="user-select: auto;">Therefore the genetic mutation (row) with ID=15 in the file training_variants, was classified using the clinical evidence (text) from the row with ID=15 in the file training_text</p>
<p style="user-select: auto;">Finally, to make it more exciting!! Some of the test data is machine-generated to prevent hand labeling. You will submit all the results of your classification algorithm, and we will ignore the machine-generated samples.&nbsp;</p>
<h2 style="user-select: auto;">File descriptions</h2>
<ul style="user-select: auto;">
<li style="user-select: auto;"><strong style="user-select: auto;">training_variants</strong>&nbsp;- a comma separated file containing the description of the genetic mutations used for training. Fields are <strong style="user-select: auto;">ID</strong> (the id of the row used to link the mutation to the clinical evidence), <strong style="user-select: auto;">Gene</strong> (the gene where this genetic mutation is located), <strong style="user-select: auto;">Variation</strong> (the aminoacid change for this mutations), <strong style="user-select: auto;">Class</strong> (1-9 the class this genetic mutation has been classified on)</li>
<li style="user-select: auto;"><strong style="user-select: auto;">training_text</strong>&nbsp;- a double pipe (||) delimited file that contains the clinical evidence (text) used to classify genetic mutations. Fields are <strong style="user-select: auto;">ID</strong> (the id of the row used to link the clinical evidence to the genetic mutation), <strong style="user-select: auto;">Text</strong> (the clinical evidence used to classify the genetic mutation)</li>
<li style="user-select: auto;"><strong style="user-select: auto;">test_variants</strong>&nbsp;-&nbsp;a comma separated file containing the description of the genetic mutations used for training. Fields are <strong style="user-select: auto;">ID</strong> (the id of the row used to link the mutation to the clinical evidence), <strong style="user-select: auto;">Gene</strong> (the gene where this genetic mutation is located), <strong style="user-select: auto;">Variation</strong> (the aminoacid change for this mutations)</li>
<li style="user-select: auto;"><strong style="user-select: auto;">test_text</strong> -&nbsp;a double pipe (||) delimited file that contains the clinical evidence (text) used to classify genetic mutations. Fields are <strong style="user-select: auto;">ID</strong> (the id of the row used to link the clinical evidence to the genetic mutation), <strong style="user-select: auto;">Text</strong> (the clinical evidence used to classify the genetic mutation)</li>
<li style="user-select: auto;"><strong style="user-select: auto;">submissionSample</strong>&nbsp;- a sample submission file in the correct format</li>
</ul></div></div>
